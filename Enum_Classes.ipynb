{
 "cells": [
  {
   "cell_type": "code",
   "metadata": {
    "collapsed": true,
    "ExecuteTime": {
     "end_time": "2025-10-08T15:09:33.927354686Z",
     "start_time": "2025-10-08T15:09:33.600584650Z"
    }
   },
   "source": [
    "// Enum classes in kotlin helps us write more cleaner and type safe code, because they allow us to define a set of constants that are related to each other, and a variable of that enum class type can only take one of those constant values\n",
    "\n",
    "// say we do this:\n",
    "\n",
    "var healthCondition = \"Healthy\"\n",
    "\n",
    "healthCondition = \"Halthy\" // we made a type here, but the compiler won't catch it and would assume we intend to assign a new value to the variable, which in our case \"Halthy\" is not a valid health condition\n",
    "\n"
   ],
   "outputs": [],
   "execution_count": 1
  },
  {
   "metadata": {
    "ExecuteTime": {
     "end_time": "2025-10-08T15:17:04.354145675Z",
     "start_time": "2025-10-08T15:17:04.177843497Z"
    }
   },
   "cell_type": "code",
   "source": [
    "// to solve this problem we can use enum classes\n",
    "\n",
    "enum class HealthCondition {\n",
    "    HEALTHY,\n",
    "    SICK,\n",
    "    RECOVERING,\n",
    "    CRITICAL\n",
    "}\n",
    "\n",
    "var healthstatus: HealthCondition = HealthCondition.HEALTHY\n",
    "\n",
    "healthstatus = HealthCondition.SICK // this is valid\n",
    "\n",
    "//but\n",
    "// healthstatus = \"halthy\" // this would produce compilation error\n",
    "// healthstatus = \"HEALTHY\" // this will produce an error because healthstatus can only take values from the HealthCondition enum class\n",
    "// healthstatus = HealthCondition.HALTHY // this will also produce an error because HALTHY is not a valid constant in the HealthCondition enum class\n",
    "\n",
    "\n",
    "// we can see how enum classes help us write more type safe code\n",
    "// using enums we can also perform type safe comparisons\n"
   ],
   "outputs": [],
   "execution_count": 4
  },
  {
   "metadata": {
    "ExecuteTime": {
     "end_time": "2025-10-08T15:19:44.859556721Z",
     "start_time": "2025-10-08T15:19:44.578842759Z"
    }
   },
   "cell_type": "code",
   "source": [
    "enum class HealthCondition {\n",
    "    HEALTHY,\n",
    "    SICK,\n",
    "    RECOVERING,\n",
    "    CRITICAL\n",
    "}\n",
    "\n",
    "\n",
    "var checkHealth: HealthCondition = HealthCondition.RECOVERING\n",
    "\n",
    "when (checkHealth) {\n",
    "    HealthCondition.HEALTHY -> println(\"The patient ishealthy\")\n",
    "    HealthCondition.SICK -> println(\"The patient is sick\")\n",
    "    HealthCondition.RECOVERING -> println(\"The patient is recovering\")\n",
    "    HealthCondition.CRITICAL -> println(\"The patient is in critical condition\")\n",
    "\n",
    "}"
   ],
   "outputs": [
    {
     "name": "stdout",
     "output_type": "stream",
     "text": [
      "The patient is recovering\n"
     ]
    }
   ],
   "execution_count": 7
  },
  {
   "metadata": {
    "ExecuteTime": {
     "end_time": "2025-10-09T15:59:04.265791938Z",
     "start_time": "2025-10-09T15:59:03.710102465Z"
    }
   },
   "cell_type": "code",
   "source": [
    "// Adding properties and functions to enum classes\n",
    "\n",
    "enum class HealthCondition(var severityLevel: Int) {\n",
    "    HEALTHY(0),\n",
    "    SICK(2),\n",
    "    RECOVERING(1),\n",
    "    CRITICAL(3);\n",
    "\n",
    "    fun isSevere(): Boolean {\n",
    "        return severityLevel >= 2\n",
    "    }\n",
    "}"
   ],
   "outputs": [],
   "execution_count": 1
  },
  {
   "metadata": {
    "ExecuteTime": {
     "end_time": "2025-10-09T15:59:05.586050685Z",
     "start_time": "2025-10-09T15:59:05.469088767Z"
    }
   },
   "cell_type": "code",
   "source": [
    "// we can a property off an enum instance like this\n",
    "\n",
    "println(HealthCondition.RECOVERING.severityLevel) // this will print 1\n"
   ],
   "outputs": [
    {
     "name": "stdout",
     "output_type": "stream",
     "text": [
      "1\n"
     ]
    }
   ],
   "execution_count": 2
  },
  {
   "metadata": {
    "ExecuteTime": {
     "end_time": "2025-10-09T15:59:07.808337706Z",
     "start_time": "2025-10-09T15:59:07.641303844Z"
    }
   },
   "cell_type": "code",
   "source": [
    "var condition: HealthCondition = HealthCondition.SICK\n",
    "println(condition.severityLevel)"
   ],
   "outputs": [
    {
     "name": "stdout",
     "output_type": "stream",
     "text": [
      "2\n"
     ]
    }
   ],
   "execution_count": 3
  },
  {
   "metadata": {
    "ExecuteTime": {
     "end_time": "2025-10-08T15:27:02.691546999Z",
     "start_time": "2025-10-08T15:27:02.616005109Z"
    }
   },
   "cell_type": "code",
   "source": "condition.isSevere()",
   "outputs": [
    {
     "data": {
      "text/plain": [
       "true"
      ]
     },
     "execution_count": 15,
     "metadata": {},
     "output_type": "execute_result"
    }
   ],
   "execution_count": 15
  },
  {
   "metadata": {},
   "cell_type": "code",
   "outputs": [],
   "execution_count": null,
   "source": ""
  }
 ],
 "metadata": {
  "kernelspec": {
   "display_name": "Kotlin",
   "language": "kotlin",
   "name": "kotlin"
  },
  "language_info": {
   "name": "kotlin",
   "version": "2.2.20-Beta2",
   "mimetype": "text/x-kotlin",
   "file_extension": ".kt",
   "pygments_lexer": "kotlin",
   "codemirror_mode": "text/x-kotlin",
   "nbconvert_exporter": ""
  }
 },
 "nbformat": 4,
 "nbformat_minor": 0
}
