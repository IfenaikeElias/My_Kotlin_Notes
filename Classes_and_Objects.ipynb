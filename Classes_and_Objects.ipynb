{
 "cells": [
  {
   "cell_type": "code",
   "metadata": {
    "collapsed": true,
    "ExecuteTime": {
     "end_time": "2025-10-08T11:42:13.908895313Z",
     "start_time": "2025-10-08T11:42:13.730639197Z"
    }
   },
   "source": [
    "// define an empty class\n",
    "\n",
    "class Circle"
   ],
   "outputs": [],
   "execution_count": 1
  },
  {
   "metadata": {
    "ExecuteTime": {
     "end_time": "2025-10-08T11:44:51.084474124Z",
     "start_time": "2025-10-08T11:44:50.895915018Z"
    }
   },
   "cell_type": "code",
   "source": [
    "// classes are types in Kotlin and they can be used as function parameters\n",
    "\n",
    "fun drawCircle(circle: Circle) {\n",
    "    // code that draws a circle\n",
    "}"
   ],
   "outputs": [],
   "execution_count": 2
  },
  {
   "metadata": {
    "ExecuteTime": {
     "end_time": "2025-10-08T11:54:27.389292961Z",
     "start_time": "2025-10-08T11:54:27.185840153Z"
    }
   },
   "cell_type": "code",
   "source": [
    "// create an instance of the Circle class\n",
    "\n",
    "val smallcircle = Circle()"
   ],
   "outputs": [],
   "execution_count": 3
  },
  {
   "metadata": {
    "ExecuteTime": {
     "end_time": "2025-10-08T11:55:30.814432303Z",
     "start_time": "2025-10-08T11:55:30.639015437Z"
    }
   },
   "cell_type": "code",
   "source": [
    "// declaring the class with a primary constructor\n",
    "\n",
    "class Circle(var radius: Double)\n",
    "\n",
    "// create an instance of the Circle class with a radius of 5.0\n",
    "\n",
    "val smallCircle = Circle(5.2)\n"
   ],
   "outputs": [],
   "execution_count": 4
  },
  {
   "metadata": {
    "ExecuteTime": {
     "end_time": "2025-10-08T11:56:20.563437638Z",
     "start_time": "2025-10-08T11:56:20.171945579Z"
    }
   },
   "cell_type": "code",
   "source": [
    "// we can also give a constructor a default value\n",
    "\n",
    "class Circle(var radius: Double = 1.0)\n",
    "\n",
    "// create an instance of the Circle class with the default radius\n",
    "\n",
    "val defaultCircle = Circle()\n",
    "defaultCircle.radius"
   ],
   "outputs": [
    {
     "data": {
      "text/plain": [
       "1.0"
      ]
     },
     "execution_count": 5,
     "metadata": {},
     "output_type": "execute_result"
    }
   ],
   "execution_count": 5
  },
  {
   "metadata": {
    "ExecuteTime": {
     "end_time": "2025-10-08T11:57:29.997731778Z",
     "start_time": "2025-10-08T11:57:29.838954596Z"
    }
   },
   "cell_type": "code",
   "source": [
    "val smallCircle = Circle(5.2)\n",
    "\n",
    "val radiusOfSmallCircle: Double = smallCircle.radius\n",
    "\n",
    "println(radiusOfSmallCircle)"
   ],
   "outputs": [
    {
     "name": "stdout",
     "output_type": "stream",
     "text": [
      "5.2\n"
     ]
    }
   ],
   "execution_count": 6
  },
  {
   "metadata": {
    "ExecuteTime": {
     "end_time": "2025-10-08T11:58:54.901385470Z",
     "start_time": "2025-10-08T11:58:54.716226506Z"
    }
   },
   "cell_type": "code",
   "source": [
    "// we can also set constant properties of a class in it constructur using \"val\"\n",
    "\n",
    "class Circle(var radius: Double, val pi: Double)\n",
    "\n",
    "// pi is a constant proper\n",
    "val circle = Circle(5.0, 3.14)\n",
    "println(circle.pi)"
   ],
   "outputs": [
    {
     "name": "stdout",
     "output_type": "stream",
     "text": [
      "3.14\n"
     ]
    }
   ],
   "execution_count": 7
  },
  {
   "metadata": {
    "ExecuteTime": {
     "end_time": "2025-10-08T12:01:28.182685939Z",
     "start_time": "2025-10-08T12:01:28.041716555Z"
    }
   },
   "cell_type": "code",
   "source": [
    "// but in order not keep repating our self like in the case of\n",
    "\n",
    "val smallCircle = Circle(5.2, 3.14)\n",
    "val mediumCircle = Circle(10.0, 3.14)\n",
    "val largeCircle = Circle(20.0, 3.14)\n",
    "\n",
    "// we can choose to make pi a default value... but since we dont user to modify it.. that would be a bad idea. we can just move it into the class\n"
   ],
   "outputs": [],
   "execution_count": 8
  },
  {
   "metadata": {
    "ExecuteTime": {
     "end_time": "2025-10-08T12:02:35.499631249Z",
     "start_time": "2025-10-08T12:02:35.345009944Z"
    }
   },
   "cell_type": "code",
   "source": [
    "class Circle(var radius: Double) {\n",
    "    val pi: Double = 3.14\n",
    "}\n",
    "\n",
    "val smallCircle = Circle(5.2)\n",
    "\n",
    "val radiusOfSmallCircle: Double = smallCircle.radius\n",
    "val piFromSmallCircle: Double = smallCircle.pi\n",
    "\n",
    "println(\"$radiusOfSmallCircle, $piFromSmallCircle\")"
   ],
   "outputs": [
    {
     "name": "stdout",
     "output_type": "stream",
     "text": [
      "5.2, 3.14\n"
     ]
    }
   ],
   "execution_count": 11
  },
  {
   "metadata": {
    "ExecuteTime": {
     "end_time": "2025-10-08T12:04:14.472823484Z",
     "start_time": "2025-10-08T12:04:14.344138343Z"
    }
   },
   "cell_type": "code",
   "source": [
    "// but then there's no reason for our user to see pi so we can just make it a \"Private\" property\n",
    "\n",
    "class Circle(var radius: Double) {\n",
    "    private val pi: Double = 3.14\n",
    "}\n",
    "\n",
    "val smallCircle: Circle = Circle(5.2)\n",
    "\n",
    "val radiusOfSmallCircle: Double = smallCircle.radius\n",
    "\n",
    "// val piFromSmallCircle: Double = smallCircle.pi // this will give an error"
   ],
   "outputs": [],
   "execution_count": 12
  },
  {
   "metadata": {},
   "cell_type": "code",
   "outputs": [],
   "execution_count": null,
   "source": [
    "// in Kotlin, methods are called functions of a class, all method are functions but not all functions are methods\n",
    "\n",
    "// basically, functions can be deined at top level, inside another function or inside a class\n",
    "// functions inside a class are called methods\n",
    "\n",
    "\n",
    "class Circle(radius: Double) {\n",
    "    private val pi: Double = 3.14\n",
    "\n",
    "    fun circumference(radius: Double) = 2 * pi * radius\n",
    "}\n",
    "\n",
    "// please not private properties and methods can only be accessed within the class\n",
    "\n"
   ]
  },
  {
   "metadata": {
    "ExecuteTime": {
     "end_time": "2025-10-08T12:32:34.036126227Z",
     "start_time": "2025-10-08T12:32:33.908585598Z"
    }
   },
   "cell_type": "code",
   "source": [
    "// A better way to do what we did up is:\n",
    "\n",
    "class Circle(var radius: Double) {\n",
    "    private val pi: Double = 3.14\n",
    "\n",
    "    fun circumference() = 2 * pi * radius\n",
    "}\n",
    "\n",
    "// we are utilising scope here, defining a variable radius inside the class scope makes it accessible to all methods within the class"
   ],
   "outputs": [],
   "execution_count": 13
  },
  {
   "metadata": {
    "ExecuteTime": {
     "end_time": "2025-10-08T12:33:27.078011980Z",
     "start_time": "2025-10-08T12:33:26.932733278Z"
    }
   },
   "cell_type": "code",
   "source": [
    "val smallCircle = Circle(5.2)\n",
    "\n",
    "val circumferenceOfSmallCircle: Double = smallCircle.circumference()\n",
    "\n",
    "println(circumferenceOfSmallCircle)"
   ],
   "outputs": [
    {
     "name": "stdout",
     "output_type": "stream",
     "text": [
      "32.656000000000006\n"
     ]
    }
   ],
   "execution_count": 14
  },
  {
   "metadata": {
    "ExecuteTime": {
     "end_time": "2025-10-08T12:36:26.151730041Z",
     "start_time": "2025-10-08T12:36:26.016250460Z"
    }
   },
   "cell_type": "code",
   "source": [
    "// the class can have more functions\n",
    "\n",
    "class Circle(var radius: Double){\n",
    "    private val pi: Double = 3.14\n",
    "\n",
    "    fun circumference() = diameter() * pi\n",
    "    fun area() = pi * radius * radius\n",
    "    fun diameter() = 2 * radius\n",
    "}\n",
    "\n"
   ],
   "outputs": [],
   "execution_count": 15
  },
  {
   "metadata": {
    "ExecuteTime": {
     "end_time": "2025-10-08T12:37:58.638381624Z",
     "start_time": "2025-10-08T12:37:58.495810022Z"
    }
   },
   "cell_type": "code",
   "source": [
    "// incase we do not want Diameter to be accessible outside the class, we can make it private\n",
    "\n",
    "class Circle(var radius: Double){\n",
    "    private val pi: Double = 3.14\n",
    "\n",
    "    fun circumference() = diameter() * pi\n",
    "    fun area() = pi * radius * radius\n",
    "    private fun diameter() = 2 * radius\n",
    "}\n",
    "\n",
    "// use case\n",
    "val smallCircle = Circle(5.2)\n",
    "// val diameterOfSmallCircle: Double = smallCircle.diameter()  // this will give an error\n",
    "//println(diameterOfSmallCircle)"
   ],
   "outputs": [],
   "execution_count": 17
  },
  {
   "metadata": {
    "ExecuteTime": {
     "end_time": "2025-10-08T12:40:41.219133Z",
     "start_time": "2025-10-08T12:40:40.942368488Z"
    }
   },
   "cell_type": "code",
   "source": [
    "// Just like in python, In kotlin everything is an object\n",
    "\n",
    "val greeting: String = \"Hello, World!\"\n",
    "val lengthOfGreeting: Int = greeting.length\n",
    "println(lengthOfGreeting)\n",
    "val indexOfW: Int = greeting.indexOf('W')\n",
    "println(indexOfW)\n",
    "val upperCaseGreeting: String = greeting.uppercase()\n",
    "println(upperCaseGreeting)\n",
    "val lowerCaseGreeting: String = greeting.lowercase()\n",
    "println(lowerCaseGreeting)"
   ],
   "outputs": [
    {
     "name": "stdout",
     "output_type": "stream",
     "text": [
      "13\n",
      "7\n",
      "HELLO, WORLD!\n",
      "hello, world!\n"
     ]
    }
   ],
   "execution_count": 18
  },
  {
   "metadata": {
    "ExecuteTime": {
     "end_time": "2025-10-08T12:41:30.881001514Z",
     "start_time": "2025-10-08T12:41:30.739994907Z"
    }
   },
   "cell_type": "code",
   "source": [
    "// Boolean as an Object\n",
    "\n",
    "val isDark = true\n",
    "val isLight = false\n",
    "\n",
    "val andResult = isDark.and(isLight)\n",
    "println(andResult)\n",
    "val orResult = isDark.or(isLight)\n",
    "println(orResult)"
   ],
   "outputs": [
    {
     "name": "stdout",
     "output_type": "stream",
     "text": [
      "false\n",
      "true\n"
     ]
    }
   ],
   "execution_count": 19
  },
  {
   "metadata": {},
   "cell_type": "code",
   "outputs": [],
   "execution_count": null,
   "source": ""
  }
 ],
 "metadata": {
  "kernelspec": {
   "display_name": "Kotlin",
   "language": "kotlin",
   "name": "kotlin"
  },
  "language_info": {
   "name": "kotlin",
   "version": "2.2.20-Beta2",
   "mimetype": "text/x-kotlin",
   "file_extension": ".kt",
   "pygments_lexer": "kotlin",
   "codemirror_mode": "text/x-kotlin",
   "nbconvert_exporter": ""
  }
 },
 "nbformat": 4,
 "nbformat_minor": 0
}
