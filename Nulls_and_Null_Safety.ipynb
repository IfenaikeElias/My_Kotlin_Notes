{
 "cells": [
  {
   "cell_type": "code",
   "metadata": {
    "collapsed": true,
    "ExecuteTime": {
     "end_time": "2025-10-10T10:19:33.898889884Z",
     "start_time": "2025-10-10T10:19:33.613626449Z"
    }
   },
   "source": [
    "// In kotlin, null is a special  literal that represents the absence of a value, please don't mistake this for default parameters in functions... if a null value is used as a function argurement, it means the function can ignore the value while if not provided and assume it's null, when we use a default value it means that if user ignores the arguement the default value would be used instead (and the default value could be set to null depending in what you want your code to do).\n",
    "\n",
    "// null simply means no object or data is stored here. but we have provided space to store something.\n",
    "\n",
    "val name: String? = null // when defining nullable value (values that can be null) we use the \"?\" infront of the variable name.\n",
    "\n",
    "var x: Int = 10 // this means the variable must always take an integer, hence cannot be assigned to a null value... while\n",
    "\n",
    "var x: Int? = 10 // this means the variable can hold an integer or be null."
   ],
   "outputs": [],
   "execution_count": 1
  },
  {
   "metadata": {
    "ExecuteTime": {
     "end_time": "2025-10-10T11:12:14.496935610Z",
     "start_time": "2025-10-10T11:12:14.278565171Z"
    }
   },
   "cell_type": "code",
   "source": [
    "// we also use the elvis operator when we declare a variable and we know a variable could mistankely be assigned to null (which could break our code) and we should add a fall back in this case\n",
    "\n",
    "// var var_name = value ?: fallback\n",
    "\n",
    "// create nullable variable and assign it to a non null value\n",
    "var name: String? = \"kotlin\"\n",
    "\n",
    "// a second variable // think of ?: as if null, then ...\n",
    "var secondName: String = name ?: \"not kotlin\" // create a variable secondName assign it to name and if name is null, assign it to \"not kotlin\"\n",
    "println(\"$name, $secondName\")\n",
    "\n",
    "\n",
    "// now make it a null\n",
    "name = null\n",
    "\n",
    "// a second variable\n",
    "secondName = name ?: \"not kotlin\" // assign secondName to name, if null assign it to \"not kotlin\"\n",
    "\n",
    "println(\"$name, $secondName\")"
   ],
   "outputs": [
    {
     "name": "stdout",
     "output_type": "stream",
     "text": [
      "kotlin, kotlin\n",
      "null, not kotlin\n"
     ]
    }
   ],
   "execution_count": 30
  },
  {
   "metadata": {
    "ExecuteTime": {
     "end_time": "2025-10-10T11:15:50.258430269Z",
     "start_time": "2025-10-10T11:15:49.702818266Z"
    }
   },
   "cell_type": "code",
   "source": [
    "// To ensure null safety kotlin forces you too be aware you are working with a null value.\n",
    "\n",
    "// So when you do:\n",
    "var name: String? = null\n",
    "//println(name.length) // throws a compi?ler error only safe (?.) calls are only allowed on a nullable reciever of typr string?\n",
    "\n",
    "// if we intend to do this we would have to explicit tell the compiler that we aware it's a null value\n",
    "println(name?.length) // return null\n",
    "println(name?.length ?: 0) // print the length of name if its null print 0.\n",
    "\n",
    "\n",
    "name = \"kotlin\"\n",
    "// println(name.length) even when it doesn't take a null value as long as name is of nullable type we must ensure null safety while calling a method on it... so this will throw thesame error\n",
    "println(name?.length) // returns 6"
   ],
   "outputs": [
    {
     "name": "stdout",
     "output_type": "stream",
     "text": [
      "null\n",
      "0\n",
      "6\n"
     ]
    }
   ],
   "execution_count": 31
  },
  {
   "metadata": {
    "ExecuteTime": {
     "end_time": "2025-10-10T11:20:20.690524131Z",
     "start_time": "2025-10-10T11:20:20.413761255Z"
    }
   },
   "cell_type": "code",
   "source": [
    "// we could also use the elvis in the return statements of functions\n",
    "\n",
    "fun getNameOrNothing(name: String?): String{\n",
    "    return name ?: \"nothing\" // I wanted to use empty string \"\" just used \"nothing\" for visibility\n",
    "}\n",
    "\n",
    "println(getNameOrNothing(null))\n",
    "println(getNameOrNothing(\"kotlin\"))"
   ],
   "outputs": [
    {
     "name": "stdout",
     "output_type": "stream",
     "text": [
      "nothing\n",
      "kotlin\n"
     ]
    }
   ],
   "execution_count": 35
  },
  {
   "metadata": {
    "ExecuteTime": {
     "end_time": "2025-10-10T10:29:35.853610934Z",
     "start_time": "2025-10-10T10:29:35.531447184Z"
    }
   },
   "cell_type": "code",
   "source": [
    "//var name: String? : \"\" = null this won't work because we can give a fallback variable during declaration\n",
    "// we can only initialize a nullable type but that doesn't mean it's a faalback... if the value eventually because null it won't go back to that value\n",
    "\n",
    "var name: String? = \"\" // initialize nullable name to \"\""
   ],
   "outputs": [],
   "execution_count": 4
  },
  {
   "metadata": {},
   "cell_type": "code",
   "outputs": [],
   "execution_count": null,
   "source": ""
  }
 ],
 "metadata": {
  "kernelspec": {
   "display_name": "Kotlin",
   "language": "kotlin",
   "name": "kotlin"
  },
  "language_info": {
   "name": "kotlin",
   "version": "2.2.20-Beta2",
   "mimetype": "text/x-kotlin",
   "file_extension": ".kt",
   "pygments_lexer": "kotlin",
   "codemirror_mode": "text/x-kotlin",
   "nbconvert_exporter": ""
  }
 },
 "nbformat": 4,
 "nbformat_minor": 0
}
