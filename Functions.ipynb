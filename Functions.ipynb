{
 "cells": [
  {
   "cell_type": "code",
   "metadata": {
    "collapsed": true,
    "ExecuteTime": {
     "end_time": "2025-10-08T02:25:48.269025361Z",
     "start_time": "2025-10-08T02:25:48.141394901Z"
    }
   },
   "source": [
    "// creating functions\n",
    "// it's in the format\n",
    "// keyword function_name(input parameter): return type = function body\n",
    "val pi = 3.14\n",
    "fun circumference(radius: Double): Double = 2 * pi * radius\n",
    "\n",
    "val circumferenceOfSmallCircle = circumference(5.2)"
   ],
   "outputs": [],
   "execution_count": 3
  },
  {
   "metadata": {
    "ExecuteTime": {
     "end_time": "2025-10-08T02:25:48.844811490Z",
     "start_time": "2025-10-08T02:25:48.725168225Z"
    }
   },
   "cell_type": "code",
   "source": "circumferenceOfSmallCircle",
   "outputs": [
    {
     "data": {
      "text/plain": [
       "32.656000000000006"
      ]
     },
     "execution_count": 4,
     "metadata": {},
     "output_type": "execute_result"
    }
   ],
   "execution_count": 4
  },
  {
   "metadata": {
    "ExecuteTime": {
     "end_time": "2025-10-08T02:41:57.537555607Z",
     "start_time": "2025-10-08T02:41:57.439017482Z"
    }
   },
   "cell_type": "code",
   "source": [
    "// if a function body is beyond a line (called block body) we can use curly braces instead\n",
    "\n",
    "fun circumference(radius: Double): Double {\n",
    "    return 2 * pi * radius\n",
    "}\n",
    "\n",
    "val circumferenceOfSmallCircle = circumference(5.2)\n",
    "println(circumferenceOfSmallCircle)"
   ],
   "outputs": [
    {
     "name": "stdout",
     "output_type": "stream",
     "text": [
      "32.656000000000006\n"
     ]
    }
   ],
   "execution_count": 14
  },
  {
   "metadata": {
    "ExecuteTime": {
     "end_time": "2025-10-08T02:37:23.575449168Z",
     "start_time": "2025-10-08T02:37:23.433548850Z"
    }
   },
   "cell_type": "code",
   "source": [
    "// A function can take in more than one parameter\n",
    "\n",
    "fun speed(distance: Double, time: Double): Double = distance / time\n",
    "\n",
    "println(speed(45.0, 9.0))\n",
    "// we can use named arguememts and also omit them if we want\n",
    "println(speed(distance=32.0, 4.0)) // we can ommit the time keyword\n",
    "println(speed(32.0, time=4.0))\n",
    "println(speed(distance=32.0, time=4.0))\n",
    "println(speed(time=4.0, distance= 32.0))\n",
    "//println(speed(time=4.0, 32.0)) this will produce an error"
   ],
   "outputs": [
    {
     "name": "stdout",
     "output_type": "stream",
     "text": [
      "5.0\n",
      "8.0\n",
      "8.0\n",
      "8.0\n",
      "8.0\n"
     ]
    }
   ],
   "execution_count": 11
  },
  {
   "metadata": {
    "ExecuteTime": {
     "end_time": "2025-10-08T02:39:49.256872027Z",
     "start_time": "2025-10-08T02:39:48.997295656Z"
    }
   },
   "cell_type": "code",
   "source": [
    "// we can also set deault values\n",
    "fun speed(distance: Double, time: Double = 2.0): Double = distance / time\n",
    "\n",
    "println(speed(32.0))\n"
   ],
   "outputs": [
    {
     "name": "stdout",
     "output_type": "stream",
     "text": [
      "16.0\n"
     ]
    }
   ],
   "execution_count": 12
  },
  {
   "metadata": {
    "ExecuteTime": {
     "end_time": "2025-10-08T02:41:21.619057992Z",
     "start_time": "2025-10-08T02:41:21.509224445Z"
    }
   },
   "cell_type": "code",
   "source": [
    "fun speed(distance: Double = 42.195, time: Double): Double = distance / time\n",
    "\n",
    "// println(speed(2.0)) this will throw an error because time is not first element\n",
    "\n",
    "println(speed(time=2.88))\n"
   ],
   "outputs": [
    {
     "name": "stdout",
     "output_type": "stream",
     "text": [
      "14.651041666666668\n"
     ]
    }
   ],
   "execution_count": 13
  },
  {
   "metadata": {
    "ExecuteTime": {
     "end_time": "2025-10-08T02:57:19.485498220Z",
     "start_time": "2025-10-08T02:57:19.309437414Z"
    }
   },
   "cell_type": "code",
   "source": [
    "// go and java is pass by value, which means that they create a copy and use this in the funtion, Hence any object you pass into a function, if you modify it, it doesn't update that object outside the function.\n",
    "\n",
    "var x = 0\n",
    "\n",
    "fun increment() {\n",
    "    x += 1\n",
    "}\n",
    "\n",
    "println(\"before increment: $x\")\n",
    "increment()\n",
    "println(\"after increment: $x\")\n",
    "// x is not modified by this function and kotlin is not pass by value but it is pass by refernce not pass by value"
   ],
   "outputs": [
    {
     "name": "stdout",
     "output_type": "stream",
     "text": [
      "before increment: 0\n",
      "after increment: 1\n"
     ]
    }
   ],
   "execution_count": 20
  },
  {
   "metadata": {
    "ExecuteTime": {
     "end_time": "2025-10-08T02:57:12.780968466Z",
     "start_time": "2025-10-08T02:57:12.722476078Z"
    }
   },
   "cell_type": "code",
   "source": "",
   "outputs": [],
   "execution_count": 19
  },
  {
   "metadata": {},
   "cell_type": "code",
   "outputs": [],
   "execution_count": null,
   "source": ""
  }
 ],
 "metadata": {
  "kernelspec": {
   "display_name": "Kotlin",
   "language": "kotlin",
   "name": "kotlin"
  },
  "language_info": {
   "name": "kotlin",
   "version": "2.2.20-Beta2",
   "mimetype": "text/x-kotlin",
   "file_extension": ".kt",
   "pygments_lexer": "kotlin",
   "codemirror_mode": "text/x-kotlin",
   "nbconvert_exporter": ""
  }
 },
 "nbformat": 4,
 "nbformat_minor": 0
}
