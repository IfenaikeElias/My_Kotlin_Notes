{
 "cells": [
  {
   "cell_type": "code",
   "metadata": {
    "collapsed": true,
    "ExecuteTime": {
     "end_time": "2025-10-08T13:17:12.595207156Z",
     "start_time": "2025-10-08T13:17:12.030699208Z"
    }
   },
   "source": [
    "// For loops in kotlin are similar to python\n",
    "// we can loop through a range of numbers or through a collection like an array or list\n",
    "// we can also loop through a string\n",
    "// we can also loop through a map\n",
    "// we can also loop through a set\n",
    "\n",
    "val items = listOf(\"apple\", \"banana\", \"kiwi\")\n",
    "for (item in items){\n",
    "    println(item)\n",
    "}"
   ],
   "outputs": [
    {
     "name": "stdout",
     "output_type": "stream",
     "text": [
      "apple\n",
      "banana\n",
      "kiwi\n"
     ]
    }
   ],
   "execution_count": 1
  },
  {
   "metadata": {
    "ExecuteTime": {
     "end_time": "2025-10-08T13:18:34.497301690Z",
     "start_time": "2025-10-08T13:18:33.975754906Z"
    }
   },
   "cell_type": "code",
   "source": [
    "// using index\n",
    "\n",
    "for (index in items.indices){\n",
    "    println(\"items at $index is ${items[index]}\")\n",
    "}"
   ],
   "outputs": [
    {
     "name": "stdout",
     "output_type": "stream",
     "text": [
      "items at 0 is apple\n",
      "items at 1 is banana\n",
      "items at 2 is kiwi\n"
     ]
    }
   ],
   "execution_count": 2
  },
  {
   "metadata": {
    "ExecuteTime": {
     "end_time": "2025-10-08T13:19:39.418795038Z",
     "start_time": "2025-10-08T13:19:39.219254755Z"
    }
   },
   "cell_type": "code",
   "source": [
    "// while loops\n",
    "\n",
    "var i = 0\n",
    "while (i < items.size){\n",
    "    println(\"items at $i is ${items[i]}\")\n",
    "    i++\n",
    "}"
   ],
   "outputs": [
    {
     "name": "stdout",
     "output_type": "stream",
     "text": [
      "items at 0 is apple\n",
      "items at 1 is banana\n",
      "items at 2 is kiwi\n"
     ]
    }
   ],
   "execution_count": 3
  },
  {
   "metadata": {
    "ExecuteTime": {
     "end_time": "2025-10-08T13:22:27.708257046Z",
     "start_time": "2025-10-08T13:22:27.537513697Z"
    }
   },
   "cell_type": "code",
   "source": [
    "// Ranges\n",
    "// we can create a range using the .. operator\n",
    "val range = 1..5\n",
    "for (num in range){\n",
    "    println(num)\n",
    "}"
   ],
   "outputs": [
    {
     "name": "stdout",
     "output_type": "stream",
     "text": [
      "1\n",
      "2\n",
      "3\n",
      "4\n",
      "5\n"
     ]
    }
   ],
   "execution_count": 4
  },
  {
   "metadata": {
    "ExecuteTime": {
     "end_time": "2025-10-08T13:22:59.808588051Z",
     "start_time": "2025-10-08T13:22:59.681167460Z"
    }
   },
   "cell_type": "code",
   "source": [
    "val x = 10\n",
    "val y = 9\n",
    "\n",
    "if (x in 1..y+1){\n",
    "    println(\"$x is in range\")\n",
    "}"
   ],
   "outputs": [
    {
     "name": "stdout",
     "output_type": "stream",
     "text": [
      "10 is in range\n"
     ]
    }
   ],
   "execution_count": 5
  },
  {
   "metadata": {
    "ExecuteTime": {
     "end_time": "2025-10-08T13:25:34.110403451Z",
     "start_time": "2025-10-08T13:25:33.989037570Z"
    }
   },
   "cell_type": "code",
   "source": [
    "val list = listOf(\"a\", \"b\", \"c\")\n",
    "\n",
    "if (-2 !in 0..list.lastIndex){\n",
    "    println(\"-2 is out of range\")\n",
    "}\n"
   ],
   "outputs": [
    {
     "name": "stdout",
     "output_type": "stream",
     "text": [
      "-2 is out of range\n"
     ]
    }
   ],
   "execution_count": 8
  },
  {
   "metadata": {
    "ExecuteTime": {
     "end_time": "2025-10-08T13:25:30.783993032Z",
     "start_time": "2025-10-08T13:25:30.688008412Z"
    }
   },
   "cell_type": "code",
   "source": [
    "// we could aslo do it this way\n",
    "if (-2 < 0 || -2 > list.lastIndex){\n",
    "    println(\"-2 is out of range\")\n",
    "}"
   ],
   "outputs": [
    {
     "name": "stdout",
     "output_type": "stream",
     "text": [
      "-2 is out of range\n"
     ]
    }
   ],
   "execution_count": 7
  },
  {
   "metadata": {
    "ExecuteTime": {
     "end_time": "2025-10-08T13:28:38.883734444Z",
     "start_time": "2025-10-08T13:28:38.796163319Z"
    }
   },
   "cell_type": "code",
   "source": [
    "// or\n",
    "if (-2 !in list.indices){\n",
    "    println(\"-2 is out of range\")\n",
    "}\n",
    "// this works as list.indices is equivalent to 0..list.size-1"
   ],
   "outputs": [
    {
     "name": "stdout",
     "output_type": "stream",
     "text": [
      "-2 is out of range\n"
     ]
    }
   ],
   "execution_count": 11
  },
  {
   "metadata": {
    "ExecuteTime": {
     "end_time": "2025-10-08T13:39:48.335752473Z",
     "start_time": "2025-10-08T13:39:48.204612202Z"
    }
   },
   "cell_type": "code",
   "source": [
    "for (i in 0..10 step 2){\n",
    "    println(i)\n",
    "}"
   ],
   "outputs": [
    {
     "name": "stdout",
     "output_type": "stream",
     "text": [
      "0\n",
      "2\n",
      "4\n",
      "6\n",
      "8\n",
      "10\n"
     ]
    }
   ],
   "execution_count": 15
  },
  {
   "metadata": {
    "ExecuteTime": {
     "end_time": "2025-10-08T13:41:20.880742790Z",
     "start_time": "2025-10-08T13:41:20.795736774Z"
    }
   },
   "cell_type": "code",
   "source": [
    "// we use downTo to decrement\n",
    "for ( i in 10 downTo 0 step 2){\n",
    "    println(i)\n",
    "}"
   ],
   "outputs": [
    {
     "name": "stdout",
     "output_type": "stream",
     "text": [
      "10\n",
      "8\n",
      "6\n",
      "4\n",
      "2\n",
      "0\n"
     ]
    }
   ],
   "execution_count": 17
  },
  {
   "metadata": {
    "ExecuteTime": {
     "end_time": "2025-10-08T13:43:13.415537084Z",
     "start_time": "2025-10-08T13:43:13.333066355Z"
    }
   },
   "cell_type": "code",
   "source": [
    "for ( i in 10 downTo 1 step 2){\n",
    "    println(i)\n",
    "}\n",
    "\n",
    "// how kotlin uses close intervals (a <= x <= b, or a >= x >= b) in both ends of the range"
   ],
   "outputs": [
    {
     "name": "stdout",
     "output_type": "stream",
     "text": [
      "10\n",
      "8\n",
      "6\n",
      "4\n",
      "2\n"
     ]
    }
   ],
   "execution_count": 19
  },
  {
   "metadata": {},
   "cell_type": "code",
   "outputs": [],
   "execution_count": null,
   "source": ""
  }
 ],
 "metadata": {
  "kernelspec": {
   "display_name": "Kotlin",
   "language": "kotlin",
   "name": "kotlin"
  },
  "language_info": {
   "name": "kotlin",
   "version": "2.2.20-Beta2",
   "mimetype": "text/x-kotlin",
   "file_extension": ".kt",
   "pygments_lexer": "kotlin",
   "codemirror_mode": "text/x-kotlin",
   "nbconvert_exporter": ""
  }
 },
 "nbformat": 4,
 "nbformat_minor": 0
}
