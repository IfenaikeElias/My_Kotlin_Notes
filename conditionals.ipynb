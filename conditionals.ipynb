{
 "cells": [
  {
   "cell_type": "code",
   "metadata": {
    "collapsed": true,
    "ExecuteTime": {
     "end_time": "2025-10-08T03:50:48.447178895Z",
     "start_time": "2025-10-08T03:50:47.726106915Z"
    }
   },
   "source": [
    "val temperature = 48\n",
    "\n",
    "// the when keyword tells kotlin you want to do something different depending on the circumstance\n",
    "val reaction = when {\n",
    "    temperature > 55 -> \"It's too hot!\"\n",
    "    temperature < 40 -> \"It's too Cold\"\n",
    "    else             -> \"It's just right\"\n",
    "}\n",
    "\n",
    "println(reaction)"
   ],
   "outputs": [
    {
     "name": "stdout",
     "output_type": "stream",
     "text": [
      "It's just right\n"
     ]
    }
   ],
   "execution_count": 1
  },
  {
   "metadata": {
    "ExecuteTime": {
     "end_time": "2025-10-08T03:54:47.711697830Z",
     "start_time": "2025-10-08T03:54:47.638283020Z"
    }
   },
   "cell_type": "code",
   "source": "// when is basically that switch in C has fallthrough (meaning if a break doesn't preceed each statement after a case is succesful all the rest runs through or In Go where we use the fallthrough keyword). In kotlin, when has no fallthrough, so only one case will get executed",
   "outputs": [],
   "execution_count": 2
  },
  {
   "metadata": {
    "ExecuteTime": {
     "end_time": "2025-10-08T03:56:51.779223745Z",
     "start_time": "2025-10-08T03:56:51.552243103Z"
    }
   },
   "cell_type": "code",
   "source": [
    "val quantity = 3\n",
    "\n",
    "val pricePerBook =  when {\n",
    "    quantity == 1 -> 19.99\n",
    "    quantity == 2 -> 18.99\n",
    "    quantity == 3 -> 16.99\n",
    "    quantity == 4 -> 16.99\n",
    "    else          -> 14.99\n",
    "}\n",
    "\n",
    "println(pricePerBook)"
   ],
   "outputs": [
    {
     "name": "stdout",
     "output_type": "stream",
     "text": [
      "16.99\n"
     ]
    }
   ],
   "execution_count": 3
  },
  {
   "metadata": {
    "ExecuteTime": {
     "end_time": "2025-10-08T03:58:00.933999314Z",
     "start_time": "2025-10-08T03:58:00.804809976Z"
    }
   },
   "cell_type": "code",
   "source": [
    "// we can rewrite this more better as\n",
    "\n",
    "val quantity = 3\n",
    "\n",
    "val pricePerBook = when (quantity) {\n",
    "    1 -> 19.99\n",
    "    2 -> 18.99\n",
    "    3, 4 -> 16.99\n",
    "    else -> 14.99\n",
    "}\n",
    "\n",
    "println(pricePerBook)"
   ],
   "outputs": [
    {
     "name": "stdout",
     "output_type": "stream",
     "text": [
      "16.99\n"
     ]
    }
   ],
   "execution_count": 4
  },
  {
   "metadata": {
    "ExecuteTime": {
     "end_time": "2025-10-08T03:59:27.508464658Z",
     "start_time": "2025-10-08T03:59:27.448640939Z"
    }
   },
   "cell_type": "code",
   "source": "// we include else in our when because the when statemenet must be exhaustive meaning eveery condition must be accounted for (similar to what we do with default in Go and C, only that it's not neccesary in those languages)",
   "outputs": [],
   "execution_count": 5
  },
  {
   "metadata": {
    "ExecuteTime": {
     "end_time": "2025-10-08T04:00:51.556502966Z",
     "start_time": "2025-10-08T04:00:51.419473905Z"
    }
   },
   "cell_type": "code",
   "source": [
    "val isLightBulbOn = true\n",
    "\n",
    "val reaction = when (isLightBulbOn) {\n",
    "    true -> \"It's bright\"\n",
    "    false -> \"I can't see\"\n",
    "}\n",
    "\n",
    "println(reaction)"
   ],
   "outputs": [
    {
     "name": "stdout",
     "output_type": "stream",
     "text": [
      "It's bright\n"
     ]
    }
   ],
   "execution_count": 6
  },
  {
   "metadata": {
    "ExecuteTime": {
     "end_time": "2025-10-08T04:07:33.649245380Z",
     "start_time": "2025-10-08T04:07:33.540627436Z"
    }
   },
   "cell_type": "code",
   "source": [
    "// if Expresssions\n",
    "val isLightBulb = true\n",
    "val reaction = if (isLightBulb) \"It's bright\" else \"I can't see\"\n",
    "\n",
    "println(reaction)"
   ],
   "outputs": [
    {
     "name": "stdout",
     "output_type": "stream",
     "text": [
      "It's bright\n"
     ]
    }
   ],
   "execution_count": 7
  },
  {
   "metadata": {
    "ExecuteTime": {
     "end_time": "2025-10-08T04:10:16.101280280Z",
     "start_time": "2025-10-08T04:10:16.004458109Z"
    }
   },
   "cell_type": "code",
   "source": [
    "// we can also write block if else statemnets\n",
    "val isLightBulbOn = true\n",
    "\n",
    "val reaction =\n",
    "    if (isLightBulbOn)\n",
    "        \"It's bright\"\n",
    "    else\n",
    "        \"I can't see\"\n",
    "\n",
    "\n",
    "println(reaction)"
   ],
   "outputs": [
    {
     "name": "stdout",
     "output_type": "stream",
     "text": [
      "It's bright\n"
     ]
    }
   ],
   "execution_count": 12
  },
  {
   "metadata": {
    "ExecuteTime": {
     "end_time": "2025-10-08T04:11:51.440770751Z",
     "start_time": "2025-10-08T04:11:51.384076095Z"
    }
   },
   "cell_type": "code",
   "source": [
    "// Generally as a kotlin programmer if you have a single check use if\n",
    "// if you have multiple checks use when\n",
    "// we can also use else if but just use else instead"
   ],
   "outputs": [],
   "execution_count": 15
  },
  {
   "metadata": {},
   "cell_type": "code",
   "outputs": [],
   "execution_count": null,
   "source": ""
  }
 ],
 "metadata": {
  "kernelspec": {
   "display_name": "Kotlin",
   "language": "kotlin",
   "name": "kotlin"
  },
  "language_info": {
   "name": "kotlin",
   "version": "2.2.20-Beta2",
   "mimetype": "text/x-kotlin",
   "file_extension": ".kt",
   "pygments_lexer": "kotlin",
   "codemirror_mode": "text/x-kotlin",
   "nbconvert_exporter": ""
  }
 },
 "nbformat": 4,
 "nbformat_minor": 0
}
