{
 "cells": [
  {
   "cell_type": "code",
   "metadata": {
    "collapsed": true,
    "ExecuteTime": {
     "end_time": "2025-10-08T02:10:17.849897918Z",
     "start_time": "2025-10-08T02:10:17.626120195Z"
    }
   },
   "source": [
    "// creating variables in kotlin\n",
    "// we use the var keyword\n",
    "\n",
    "var r = 5\n",
    "// we can simply reassing like this:\n",
    "r = 6\n",
    "\n",
    "// to define constants we use the \"val\" keyword.\n",
    "val pi = 3.14\n",
    "// these variables created with val are not immutable they are only read only variables\n",
    "\n"
   ],
   "outputs": [],
   "execution_count": 1
  },
  {
   "metadata": {
    "ExecuteTime": {
     "end_time": "2025-10-08T02:11:32.126014167Z",
     "start_time": "2025-10-08T02:11:32.021002995Z"
    }
   },
   "cell_type": "code",
   "source": [
    "// naming variables in kotlin is simiar to Go, the first word starts with a lower case and the subsequent words start with upper case\n",
    "\n",
    "var radiusOfTheCircle = 5.2\n"
   ],
   "outputs": [],
   "execution_count": 2
  },
  {
   "metadata": {
    "ExecuteTime": {
     "end_time": "2025-10-08T02:12:10.546592895Z",
     "start_time": "2025-10-08T02:12:10.378262154Z"
    }
   },
   "cell_type": "code",
   "source": [
    "var radius = 5.2\n",
    "val pi = 3.14\n",
    "\n",
    "var circumference = 2 * pi * radius\n"
   ],
   "outputs": [],
   "execution_count": 3
  },
  {
   "metadata": {
    "ExecuteTime": {
     "end_time": "2025-10-08T02:14:34.659781917Z",
     "start_time": "2025-10-08T02:14:34.568101655Z"
    }
   },
   "cell_type": "code",
   "source": [
    "// variables are of different type we can make kotlin aware of types by type hinting\n",
    "\n",
    "var radius: Double = 5.2\n",
    "val pi: Double = 3.14\n",
    "// for simple cases like the above we should let kotlin determine the type it self since it doesn't really matter"
   ],
   "outputs": [],
   "execution_count": 4
  },
  {
   "metadata": {
    "ExecuteTime": {
     "end_time": "2025-10-08T02:15:00.275154033Z",
     "start_time": "2025-10-08T02:15:00.178924085Z"
    }
   },
   "cell_type": "code",
   "source": "val numberOfDogs: Int = 3",
   "outputs": [],
   "execution_count": 5
  },
  {
   "metadata": {
    "ExecuteTime": {
     "end_time": "2025-10-08T02:15:55.836635337Z",
     "start_time": "2025-10-08T02:15:55.746569211Z"
    }
   },
   "cell_type": "code",
   "source": [
    "// Booleans\n",
    "\n",
    "val earthIsRound: Boolean = true\n",
    "val earthIsFlat: Boolean = false\n"
   ],
   "outputs": [],
   "execution_count": 6
  },
  {
   "metadata": {
    "ExecuteTime": {
     "end_time": "2025-10-08T02:16:54.380868917Z",
     "start_time": "2025-10-08T02:16:54.321643451Z"
    }
   },
   "cell_type": "code",
   "source": [
    "// strings\n",
    "\n",
    "val text: String = \"This is a String\""
   ],
   "outputs": [],
   "execution_count": 7
  },
  {
   "metadata": {
    "ExecuteTime": {
     "end_time": "2025-10-08T02:18:05.830320134Z",
     "start_time": "2025-10-08T02:18:05.756900786Z"
    }
   },
   "cell_type": "code",
   "source": "// kotlin is statically typed so the type of a variable would not chnaged.",
   "outputs": [],
   "execution_count": 8
  },
  {
   "metadata": {},
   "cell_type": "code",
   "outputs": [],
   "execution_count": null,
   "source": ""
  }
 ],
 "metadata": {
  "kernelspec": {
   "display_name": "Kotlin",
   "language": "kotlin",
   "name": "kotlin"
  },
  "language_info": {
   "name": "kotlin",
   "version": "2.2.20-Beta2",
   "mimetype": "text/x-kotlin",
   "file_extension": ".kt",
   "pygments_lexer": "kotlin",
   "codemirror_mode": "text/x-kotlin",
   "nbconvert_exporter": ""
  }
 },
 "nbformat": 4,
 "nbformat_minor": 0
}
